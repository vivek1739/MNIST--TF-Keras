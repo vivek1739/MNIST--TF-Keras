{
  "nbformat": 4,
  "nbformat_minor": 0,
  "metadata": {
    "colab": {
      "name": "CNN_Excercise_variations.ipynb",
      "version": "0.3.2",
      "views": {},
      "default_view": {},
      "provenance": [],
      "collapsed_sections": []
    },
    "kernelspec": {
      "name": "python3",
      "display_name": "Python 3"
    },
    "accelerator": "GPU"
  },
  "cells": [
    {
      "metadata": {
        "id": "-TB4EWmqut0s",
        "colab_type": "code",
        "colab": {
          "autoexec": {
            "startup": false,
            "wait_interval": 0
          },
          "base_uri": "https://localhost:8080/",
          "height": 34
        },
        "outputId": "d1506cd3-89e6-4ed1-b545-43c08d97d538",
        "executionInfo": {
          "status": "ok",
          "timestamp": 1532423093686,
          "user_tz": -330,
          "elapsed": 8443,
          "user": {
            "displayName": "Vivek Kumar",
            "photoUrl": "//lh6.googleusercontent.com/-M_uuoLvcedc/AAAAAAAAAAI/AAAAAAAAASo/dW13zAextDg/s50-c-k-no/photo.jpg",
            "userId": "112122627751315204755"
          }
        }
      },
      "cell_type": "code",
      "source": [
        "from __future__ import  print_function\n",
        "import keras\n",
        "from keras.datasets import mnist\n",
        "from keras.models import Sequential\n",
        "from keras.layers import Dense, Dropout, Flatten, BatchNormalization\n",
        "from keras.layers import Conv2D, MaxPooling2D\n",
        "from keras import backend as K"
      ],
      "execution_count": 1,
      "outputs": [
        {
          "output_type": "stream",
          "text": [
            "Using TensorFlow backend.\n"
          ],
          "name": "stderr"
        }
      ]
    },
    {
      "metadata": {
        "id": "gImbmfVDu6zV",
        "colab_type": "code",
        "colab": {
          "autoexec": {
            "startup": false,
            "wait_interval": 0
          },
          "base_uri": "https://localhost:8080/",
          "height": 34
        },
        "outputId": "68e6a851-446f-4d66-e20b-bd69694c5c04",
        "executionInfo": {
          "status": "ok",
          "timestamp": 1532423411594,
          "user_tz": -330,
          "elapsed": 5820,
          "user": {
            "displayName": "Vivek Kumar",
            "photoUrl": "//lh6.googleusercontent.com/-M_uuoLvcedc/AAAAAAAAAAI/AAAAAAAAASo/dW13zAextDg/s50-c-k-no/photo.jpg",
            "userId": "112122627751315204755"
          }
        }
      },
      "cell_type": "code",
      "source": [
        "batch_size = 128\n",
        "num_classes =10\n",
        "epochs =12\n",
        "\n",
        "# input image dimensions\n",
        "img_row, img_cols = 28,28\n",
        "\n",
        "(X_train, y_train), (X_test, y_test)= mnist.load_data()\n",
        "print(X_train.shape)"
      ],
      "execution_count": 18,
      "outputs": [
        {
          "output_type": "stream",
          "text": [
            "(60000, 28, 28)\n"
          ],
          "name": "stdout"
        }
      ]
    },
    {
      "metadata": {
        "id": "aWa4ttpIu-5n",
        "colab_type": "code",
        "colab": {
          "autoexec": {
            "startup": false,
            "wait_interval": 0
          }
        }
      },
      "cell_type": "code",
      "source": [
        "if K.image_data_format() == 'channels_first':\n",
        "  X_train = X_train.reshape(X_train.shape[0],1, img_row, img_cols)\n",
        "  X_test = X_test.reshape(X_test.shape[0],1, img_row, img_cols)\n",
        "  input_shape = (1, img_row, img_cols)\n",
        "else:\n",
        "  X_train = X_train.reshape(X_train.shape[0], img_row, img_cols,1)\n",
        "  X_test = X_test.reshape(X_test.shape[0],img_row, img_cols,1)\n",
        "  input_shape = (img_row, img_cols,1 )"
      ],
      "execution_count": 0,
      "outputs": []
    },
    {
      "metadata": {
        "id": "C1OKYnAGvGgf",
        "colab_type": "code",
        "colab": {
          "autoexec": {
            "startup": false,
            "wait_interval": 0
          },
          "base_uri": "https://localhost:8080/",
          "height": 85
        },
        "outputId": "26a0b734-c7fa-475f-8b5f-e7454a36afbb",
        "executionInfo": {
          "status": "ok",
          "timestamp": 1532423416084,
          "user_tz": -330,
          "elapsed": 856,
          "user": {
            "displayName": "Vivek Kumar",
            "photoUrl": "//lh6.googleusercontent.com/-M_uuoLvcedc/AAAAAAAAAAI/AAAAAAAAASo/dW13zAextDg/s50-c-k-no/photo.jpg",
            "userId": "112122627751315204755"
          }
        }
      },
      "cell_type": "code",
      "source": [
        "# Normalizing the pixel values\n",
        "X_train = X_train.astype('float32')\n",
        "X_test = X_test.astype('float32')\n",
        "X_train /=255\n",
        "X_test /=255\n",
        "print('x_train shape:', X_train.shape)\n",
        "print('x_test shape:', X_test.shape)\n",
        "\n",
        "print(X_train.shape[0],'train samples')\n",
        "print(X_test.shape[0],' test samples')\n"
      ],
      "execution_count": 20,
      "outputs": [
        {
          "output_type": "stream",
          "text": [
            "x_train shape: (60000, 28, 28, 1)\n",
            "x_test shape: (10000, 28, 28, 1)\n",
            "60000 train samples\n",
            "10000  test samples\n"
          ],
          "name": "stdout"
        }
      ]
    },
    {
      "metadata": {
        "id": "8DtgSEbOvH54",
        "colab_type": "code",
        "colab": {
          "autoexec": {
            "startup": false,
            "wait_interval": 0
          }
        }
      },
      "cell_type": "code",
      "source": [
        "# converting class vectors to binary class matrices\n",
        "y_train = keras.utils.to_categorical(y_train, num_classes)\n",
        "y_test = keras.utils.to_categorical(y_test, num_classes)\n",
        "\n",
        "\n"
      ],
      "execution_count": 0,
      "outputs": []
    },
    {
      "metadata": {
        "id": "D-EbK_jh1Leu",
        "colab_type": "text"
      },
      "cell_type": "markdown",
      "source": [
        "### model 1: filter 3x3 \n",
        " a. basic model : without dropdout and batch norm"
      ]
    },
    {
      "metadata": {
        "id": "6jHJs0GR1H2m",
        "colab_type": "code",
        "colab": {
          "autoexec": {
            "startup": false,
            "wait_interval": 0
          }
        }
      },
      "cell_type": "code",
      "source": [
        "model = Sequential()\n",
        "model.add(Conv2D(32, kernel_size=(3,3), activation='relu', input_shape=input_shape))\n",
        "#model.add(MaxPooling2D(pool_size=(2,2)))\n",
        "model.add(Flatten())\n",
        "#model.add(Dense(128, activation='relu'))\n",
        "model.add(Dense(num_classes, activation='softmax'))\n",
        "\n",
        "model.compile(loss=keras.losses.categorical_crossentropy, optimizer=keras.optimizers.Adam(),\n",
        "              metrics=['accuracy'])\n",
        "              "
      ],
      "execution_count": 0,
      "outputs": []
    },
    {
      "metadata": {
        "id": "TX_TXHPHxmKb",
        "colab_type": "code",
        "colab": {
          "autoexec": {
            "startup": false,
            "wait_interval": 0
          },
          "base_uri": "https://localhost:8080/",
          "height": 496
        },
        "outputId": "eca68b50-dfb3-408f-e84a-081cf4f7a8c3",
        "executionInfo": {
          "status": "ok",
          "timestamp": 1532423165181,
          "user_tz": -330,
          "elapsed": 61083,
          "user": {
            "displayName": "Vivek Kumar",
            "photoUrl": "//lh6.googleusercontent.com/-M_uuoLvcedc/AAAAAAAAAAI/AAAAAAAAASo/dW13zAextDg/s50-c-k-no/photo.jpg",
            "userId": "112122627751315204755"
          }
        }
      },
      "cell_type": "code",
      "source": [
        "history = model.fit(X_train,y_train, batch_size=batch_size, epochs=epochs, verbose=1, validation_data=(X_test,y_test))   \n",
        "              \n",
        "score = model.evaluate(X_test, y_test, verbose=0) \n",
        "print('Test loss',score[0])\n",
        "print('Test accuracy', score[1])              "
      ],
      "execution_count": 7,
      "outputs": [
        {
          "output_type": "stream",
          "text": [
            "Train on 60000 samples, validate on 10000 samples\n",
            "Epoch 1/12\n",
            "60000/60000 [==============================] - 7s 114us/step - loss: 0.2815 - acc: 0.9219 - val_loss: 0.1199 - val_acc: 0.9671\n",
            "Epoch 2/12\n",
            "60000/60000 [==============================] - 5s 81us/step - loss: 0.0952 - acc: 0.9737 - val_loss: 0.0818 - val_acc: 0.9755\n",
            "Epoch 3/12\n",
            "60000/60000 [==============================] - 5s 80us/step - loss: 0.0646 - acc: 0.9820 - val_loss: 0.0656 - val_acc: 0.9800\n",
            "Epoch 4/12\n",
            "41600/60000 [===================>..........] - ETA: 1s - loss: 0.0481 - acc: 0.9861"
          ],
          "name": "stdout"
        },
        {
          "output_type": "stream",
          "text": [
            "60000/60000 [==============================] - 5s 79us/step - loss: 0.0491 - acc: 0.9860 - val_loss: 0.0616 - val_acc: 0.9800\n",
            "Epoch 5/12\n",
            "60000/60000 [==============================] - 5s 78us/step - loss: 0.0402 - acc: 0.9882 - val_loss: 0.0598 - val_acc: 0.9809\n",
            "Epoch 6/12\n",
            "60000/60000 [==============================] - 5s 78us/step - loss: 0.0328 - acc: 0.9907 - val_loss: 0.0654 - val_acc: 0.9803\n",
            "Epoch 7/12\n",
            "60000/60000 [==============================] - 5s 77us/step - loss: 0.0276 - acc: 0.9924 - val_loss: 0.0645 - val_acc: 0.9804\n",
            "Epoch 8/12\n",
            "13184/60000 [=====>........................] - ETA: 3s - loss: 0.0230 - acc: 0.9937"
          ],
          "name": "stdout"
        },
        {
          "output_type": "stream",
          "text": [
            "60000/60000 [==============================] - 5s 77us/step - loss: 0.0237 - acc: 0.9932 - val_loss: 0.0594 - val_acc: 0.9828\n",
            "Epoch 9/12\n",
            "60000/60000 [==============================] - 5s 77us/step - loss: 0.0190 - acc: 0.9948 - val_loss: 0.0661 - val_acc: 0.9804\n",
            "Epoch 10/12\n",
            "60000/60000 [==============================] - 5s 76us/step - loss: 0.0164 - acc: 0.9957 - val_loss: 0.0691 - val_acc: 0.9811\n",
            "Epoch 11/12\n",
            "60000/60000 [==============================] - 5s 76us/step - loss: 0.0135 - acc: 0.9962 - val_loss: 0.0676 - val_acc: 0.9813\n",
            "Epoch 12/12\n",
            " 9216/60000 [===>..........................] - ETA: 3s - loss: 0.0094 - acc: 0.9983"
          ],
          "name": "stdout"
        },
        {
          "output_type": "stream",
          "text": [
            "60000/60000 [==============================] - 5s 77us/step - loss: 0.0111 - acc: 0.9975 - val_loss: 0.0711 - val_acc: 0.9800\n",
            "Test loss 0.07109866095322068\n",
            "Test accuracy 0.98\n"
          ],
          "name": "stdout"
        }
      ]
    },
    {
      "metadata": {
        "id": "U7WPzIukij7H",
        "colab_type": "code",
        "colab": {
          "autoexec": {
            "startup": false,
            "wait_interval": 0
          },
          "base_uri": "https://localhost:8080/",
          "height": 34
        },
        "outputId": "7d8e9e6d-7bc7-4749-b70a-ade077f19d1a",
        "executionInfo": {
          "status": "ok",
          "timestamp": 1532423256934,
          "user_tz": -330,
          "elapsed": 832,
          "user": {
            "displayName": "Vivek Kumar",
            "photoUrl": "//lh6.googleusercontent.com/-M_uuoLvcedc/AAAAAAAAAAI/AAAAAAAAASo/dW13zAextDg/s50-c-k-no/photo.jpg",
            "userId": "112122627751315204755"
          }
        }
      },
      "cell_type": "code",
      "source": [
        "epochs_list = list(range(1,epochs+1))\n",
        "history.history.keys()"
      ],
      "execution_count": 12,
      "outputs": [
        {
          "output_type": "execute_result",
          "data": {
            "text/plain": [
              "dict_keys(['val_loss', 'val_acc', 'loss', 'acc'])"
            ]
          },
          "metadata": {
            "tags": []
          },
          "execution_count": 12
        }
      ]
    },
    {
      "metadata": {
        "id": "pZc8pwrTi1MY",
        "colab_type": "code",
        "colab": {
          "autoexec": {
            "startup": false,
            "wait_interval": 0
          },
          "base_uri": "https://localhost:8080/",
          "height": 240
        },
        "outputId": "9bf1821c-26d4-4430-bdb1-4b3258652bb5",
        "executionInfo": {
          "status": "ok",
          "timestamp": 1532423337303,
          "user_tz": -330,
          "elapsed": 1086,
          "user": {
            "displayName": "Vivek Kumar",
            "photoUrl": "//lh6.googleusercontent.com/-M_uuoLvcedc/AAAAAAAAAAI/AAAAAAAAASo/dW13zAextDg/s50-c-k-no/photo.jpg",
            "userId": "112122627751315204755"
          }
        }
      },
      "cell_type": "code",
      "source": [
        "import matplotlib.pyplot as plt\n",
        "train_acc = history.history['acc']\n",
        "train_loss = history.history['loss']\n",
        "cv_acc = history.history['val_acc']\n",
        "cv_loss = history.history['val_loss']\n",
        "\n",
        "plt.figure(figsize=(5,3))\n",
        "plt.plot(epochs_list,cv_loss,label=\"cv loss\")\n",
        "plt.plot(epochs_list,train_loss,label=\"train loss\")\n",
        "plt.xlabel(\" Epochs \")\n",
        "plt.ylabel(\" Loss \")\n",
        "plt.legend()\n",
        "plt.title(\" 3x3 Basic model : Loss vs epochs\")\n",
        "plt.show()"
      ],
      "execution_count": 15,
      "outputs": [
        {
          "output_type": "display_data",
          "data": {
            "image/png": "[encoded data removed]",
            "text/plain": [
              "<matplotlib.figure.Figure at 0x7fc4717f9d68>"
            ]
          },
          "metadata": {
            "tags": []
          }
        }
      ]
    },
    {
      "metadata": {
        "id": "X4_pecqB09p2",
        "colab_type": "text"
      },
      "cell_type": "markdown",
      "source": [
        "b. Complex model with more layers\n",
        " - with dropdout and batch norm"
      ]
    },
    {
      "metadata": {
        "id": "VkBWjc6f1bUw",
        "colab_type": "code",
        "colab": {
          "autoexec": {
            "startup": false,
            "wait_interval": 0
          },
          "base_uri": "https://localhost:8080/",
          "height": 496
        },
        "outputId": "2d4635d2-850c-4b45-8ae1-027c592ec917",
        "executionInfo": {
          "status": "ok",
          "timestamp": 1532423880492,
          "user_tz": -330,
          "elapsed": 132552,
          "user": {
            "displayName": "Vivek Kumar",
            "photoUrl": "//lh6.googleusercontent.com/-M_uuoLvcedc/AAAAAAAAAAI/AAAAAAAAASo/dW13zAextDg/s50-c-k-no/photo.jpg",
            "userId": "112122627751315204755"
          }
        }
      },
      "cell_type": "code",
      "source": [
        "model = Sequential()\n",
        "model.add(Conv2D(32, kernel_size=(3,3), activation='relu', input_shape=input_shape))\n",
        "model.add(Conv2D(32, kernel_size=(3,3), activation='relu'))\n",
        "model.add(MaxPooling2D(pool_size=(2,2)))\n",
        "model.add(BatchNormalization())\n",
        "model.add(Dropout(0.25))\n",
        "\n",
        "model.add(Conv2D(64, kernel_size=(3,3), activation='relu'))\n",
        "model.add(MaxPooling2D(pool_size=(2,2)))\n",
        "model.add(BatchNormalization())\n",
        "model.add(Dropout(0.5))\n",
        "\n",
        "model.add(Flatten())\n",
        "model.add(Dense(128, activation='relu'))\n",
        "model.add(Dropout(0.5))\n",
        "model.add(Dense(num_classes, activation='softmax'))\n",
        "\n",
        "model.compile(loss=keras.losses.categorical_crossentropy, \n",
        "              optimizer=keras.optimizers.Adadelta(),\n",
        "              metrics=['accuracy'])\n",
        "\n",
        "\n",
        "history = model.fit(X_train,y_train, batch_size=batch_size, epochs=epochs, verbose=1, validation_data=(X_test,y_test))   \n",
        "              \n",
        "score = model.evaluate(X_test, y_test, verbose=0) \n",
        "print('Test loss',score[0])\n",
        "print('Test accuracy', score[1])              \n"
      ],
      "execution_count": 23,
      "outputs": [
        {
          "output_type": "stream",
          "text": [
            "Train on 60000 samples, validate on 10000 samples\n",
            "Epoch 1/12\n",
            "60000/60000 [==============================] - 12s 196us/step - loss: 0.3329 - acc: 0.9001 - val_loss: 0.0564 - val_acc: 0.9825\n",
            "Epoch 2/12\n",
            "60000/60000 [==============================] - 11s 182us/step - loss: 0.1229 - acc: 0.9643 - val_loss: 0.0394 - val_acc: 0.9876\n",
            "Epoch 3/12\n",
            "23680/60000 [==========>...................] - ETA: 6s - loss: 0.0964 - acc: 0.9713"
          ],
          "name": "stdout"
        },
        {
          "output_type": "stream",
          "text": [
            "60000/60000 [==============================] - 11s 183us/step - loss: 0.0946 - acc: 0.9726 - val_loss: 0.0318 - val_acc: 0.9901\n",
            "Epoch 4/12\n",
            "60000/60000 [==============================] - 11s 177us/step - loss: 0.0790 - acc: 0.9769 - val_loss: 0.0446 - val_acc: 0.9862\n",
            "Epoch 5/12\n",
            "59648/60000 [============================>.] - ETA: 0s - loss: 0.0698 - acc: 0.9799"
          ],
          "name": "stdout"
        },
        {
          "output_type": "stream",
          "text": [
            "60000/60000 [==============================] - 10s 175us/step - loss: 0.0697 - acc: 0.9799 - val_loss: 0.0249 - val_acc: 0.9915\n",
            "Epoch 6/12\n",
            "60000/60000 [==============================] - 11s 176us/step - loss: 0.0641 - acc: 0.9813 - val_loss: 0.0254 - val_acc: 0.9916\n",
            "Epoch 7/12\n",
            "60000/60000 [==============================] - 11s 175us/step - loss: 0.0582 - acc: 0.9829 - val_loss: 0.0262 - val_acc: 0.9914\n",
            "Epoch 8/12\n",
            " 4736/60000 [=>............................] - ETA: 9s - loss: 0.0517 - acc: 0.9852"
          ],
          "name": "stdout"
        },
        {
          "output_type": "stream",
          "text": [
            "60000/60000 [==============================] - 11s 178us/step - loss: 0.0553 - acc: 0.9840 - val_loss: 0.0227 - val_acc: 0.9929\n",
            "Epoch 9/12\n",
            "60000/60000 [==============================] - 11s 179us/step - loss: 0.0515 - acc: 0.9851 - val_loss: 0.0224 - val_acc: 0.9929\n",
            "Epoch 10/12\n",
            "52352/60000 [=========================>....] - ETA: 1s - loss: 0.0497 - acc: 0.9864"
          ],
          "name": "stdout"
        },
        {
          "output_type": "stream",
          "text": [
            "60000/60000 [==============================] - 11s 178us/step - loss: 0.0488 - acc: 0.9866 - val_loss: 0.0211 - val_acc: 0.9926\n",
            "Epoch 11/12\n",
            "60000/60000 [==============================] - 11s 176us/step - loss: 0.0467 - acc: 0.9863 - val_loss: 0.0216 - val_acc: 0.9932\n",
            "Epoch 12/12\n",
            "60000/60000 [==============================] - 11s 180us/step - loss: 0.0450 - acc: 0.9873 - val_loss: 0.0275 - val_acc: 0.9927\n",
            "Test loss 0.027535104267233965\n",
            "Test accuracy 0.9927\n"
          ],
          "name": "stdout"
        }
      ]
    },
    {
      "metadata": {
        "id": "7og6mTRu2daW",
        "colab_type": "code",
        "colab": {
          "autoexec": {
            "startup": false,
            "wait_interval": 0
          },
          "base_uri": "https://localhost:8080/",
          "height": 240
        },
        "outputId": "09fb3da9-6ef5-493c-8f11-f24f297a4fee",
        "executionInfo": {
          "status": "ok",
          "timestamp": 1532423882370,
          "user_tz": -330,
          "elapsed": 1810,
          "user": {
            "displayName": "Vivek Kumar",
            "photoUrl": "//lh6.googleusercontent.com/-M_uuoLvcedc/AAAAAAAAAAI/AAAAAAAAASo/dW13zAextDg/s50-c-k-no/photo.jpg",
            "userId": "112122627751315204755"
          }
        }
      },
      "cell_type": "code",
      "source": [
        "epochs_list = list(range(1,epochs+1))\n",
        "import matplotlib.pyplot as plt\n",
        "train_acc = history.history['acc']\n",
        "train_loss = history.history['loss']\n",
        "cv_acc = history.history['val_acc']\n",
        "cv_loss = history.history['val_loss']\n",
        "\n",
        "plt.figure(figsize=(5,3))\n",
        "plt.plot(epochs_list,cv_loss,label=\"cv loss\")\n",
        "plt.plot(epochs_list,train_loss,label=\"train loss\")\n",
        "plt.xlabel(\" Epochs \")\n",
        "plt.ylabel(\" Loss \")\n",
        "plt.legend()\n",
        "plt.title(\" 3x3 Complex model : Loss vs epochs\")\n",
        "plt.show()"
      ],
      "execution_count": 24,
      "outputs": [
        {
          "output_type": "display_data",
          "data": {
            "image/png": "[encoded data removed]",
            "text/plain": [
              "<matplotlib.figure.Figure at 0x7fc44a816ef0>"
            ]
          },
          "metadata": {
            "tags": []
          }
        }
      ]
    },
    {
      "metadata": {
        "id": "dQ9fhtU92fhQ",
        "colab_type": "text"
      },
      "cell_type": "markdown",
      "source": [
        "### model 2 :  filter 2x2\n",
        " a. basic model : without dropdout and batch norm"
      ]
    },
    {
      "metadata": {
        "id": "AjiRbZeikEKX",
        "colab_type": "code",
        "colab": {
          "autoexec": {
            "startup": false,
            "wait_interval": 0
          },
          "base_uri": "https://localhost:8080/",
          "height": 496
        },
        "outputId": "940dfcfe-76a7-4bfc-928f-2bae2afc51a7",
        "executionInfo": {
          "status": "ok",
          "timestamp": 1532423950968,
          "user_tz": -330,
          "elapsed": 68450,
          "user": {
            "displayName": "Vivek Kumar",
            "photoUrl": "//lh6.googleusercontent.com/-M_uuoLvcedc/AAAAAAAAAAI/AAAAAAAAASo/dW13zAextDg/s50-c-k-no/photo.jpg",
            "userId": "112122627751315204755"
          }
        }
      },
      "cell_type": "code",
      "source": [
        "model = Sequential()\n",
        "model.add(Conv2D(32, kernel_size=(2,2), activation='relu', input_shape=input_shape))\n",
        "model.add(MaxPooling2D(pool_size=(2,2)))\n",
        "model.add(Flatten())\n",
        "model.add(Dense(128, activation='relu'))\n",
        "model.add(Dense(num_classes, activation='softmax'))\n",
        "\n",
        "model.compile(loss=keras.losses.categorical_crossentropy, optimizer=keras.optimizers.Adam(),\n",
        "              metrics=['accuracy'])\n",
        "\n",
        "\n",
        "history = model.fit(X_train,y_train, batch_size=batch_size, epochs=epochs, verbose=1, validation_data=(X_test,y_test))   \n",
        "              \n",
        "score = model.evaluate(X_test, y_test, verbose=0) \n",
        "print('Test loss',score[0])\n",
        "print('Test accuracy', score[1])              "
      ],
      "execution_count": 25,
      "outputs": [
        {
          "output_type": "stream",
          "text": [
            "Train on 60000 samples, validate on 10000 samples\n",
            "Epoch 1/12\n",
            "60000/60000 [==============================] - 6s 102us/step - loss: 0.2722 - acc: 0.9223 - val_loss: 0.1107 - val_acc: 0.9681\n",
            "Epoch 2/12\n",
            "60000/60000 [==============================] - 5s 89us/step - loss: 0.0934 - acc: 0.9727 - val_loss: 0.0797 - val_acc: 0.9754\n",
            "Epoch 3/12\n",
            "60000/60000 [==============================] - 5s 90us/step - loss: 0.0621 - acc: 0.9820 - val_loss: 0.0628 - val_acc: 0.9798\n",
            "Epoch 4/12\n",
            "21248/60000 [=========>....................] - ETA: 3s - loss: 0.0453 - acc: 0.9872"
          ],
          "name": "stdout"
        },
        {
          "output_type": "stream",
          "text": [
            "60000/60000 [==============================] - 5s 90us/step - loss: 0.0469 - acc: 0.9858 - val_loss: 0.0624 - val_acc: 0.9791\n",
            "Epoch 5/12\n",
            "60000/60000 [==============================] - 5s 90us/step - loss: 0.0351 - acc: 0.9897 - val_loss: 0.0534 - val_acc: 0.9831\n",
            "Epoch 6/12\n",
            "60000/60000 [==============================] - 5s 89us/step - loss: 0.0285 - acc: 0.9914 - val_loss: 0.0560 - val_acc: 0.9813\n",
            "Epoch 7/12\n",
            "50304/60000 [========================>.....] - ETA: 0s - loss: 0.0219 - acc: 0.9937"
          ],
          "name": "stdout"
        },
        {
          "output_type": "stream",
          "text": [
            "60000/60000 [==============================] - 5s 91us/step - loss: 0.0217 - acc: 0.9939 - val_loss: 0.0527 - val_acc: 0.9840\n",
            "Epoch 8/12\n",
            "60000/60000 [==============================] - 5s 91us/step - loss: 0.0171 - acc: 0.9950 - val_loss: 0.0515 - val_acc: 0.9838\n",
            "Epoch 9/12\n",
            "60000/60000 [==============================] - 5s 91us/step - loss: 0.0137 - acc: 0.9961 - val_loss: 0.0528 - val_acc: 0.9845\n",
            "Epoch 10/12\n",
            "54912/60000 [==========================>...] - ETA: 0s - loss: 0.0115 - acc: 0.9965"
          ],
          "name": "stdout"
        },
        {
          "output_type": "stream",
          "text": [
            "60000/60000 [==============================] - 5s 90us/step - loss: 0.0119 - acc: 0.9963 - val_loss: 0.0549 - val_acc: 0.9838\n",
            "Epoch 11/12\n",
            "60000/60000 [==============================] - 5s 90us/step - loss: 0.0085 - acc: 0.9975 - val_loss: 0.0603 - val_acc: 0.9833\n",
            "Epoch 12/12\n",
            "60000/60000 [==============================] - 5s 91us/step - loss: 0.0062 - acc: 0.9984 - val_loss: 0.0591 - val_acc: 0.9845\n",
            "Test loss 0.05905653226806608\n",
            "Test accuracy 0.9845\n"
          ],
          "name": "stdout"
        }
      ]
    },
    {
      "metadata": {
        "id": "5YphXBLdkHD2",
        "colab_type": "code",
        "colab": {
          "autoexec": {
            "startup": false,
            "wait_interval": 0
          },
          "base_uri": "https://localhost:8080/",
          "height": 240
        },
        "outputId": "6de856a1-0692-4d5c-ffc2-24f7aff00948",
        "executionInfo": {
          "status": "ok",
          "timestamp": 1532423952979,
          "user_tz": -330,
          "elapsed": 1974,
          "user": {
            "displayName": "Vivek Kumar",
            "photoUrl": "//lh6.googleusercontent.com/-M_uuoLvcedc/AAAAAAAAAAI/AAAAAAAAASo/dW13zAextDg/s50-c-k-no/photo.jpg",
            "userId": "112122627751315204755"
          }
        }
      },
      "cell_type": "code",
      "source": [
        "epochs_list = list(range(1,epochs+1))\n",
        "import matplotlib.pyplot as plt\n",
        "train_acc = history.history['acc']\n",
        "train_loss = history.history['loss']\n",
        "cv_acc = history.history['val_acc']\n",
        "cv_loss = history.history['val_loss']\n",
        "\n",
        "plt.figure(figsize=(5,3))\n",
        "plt.plot(epochs_list,cv_loss,label=\"cv loss\")\n",
        "plt.plot(epochs_list,train_loss,label=\"train loss\")\n",
        "plt.xlabel(\" Epochs \")\n",
        "plt.ylabel(\" Loss \")\n",
        "plt.legend()\n",
        "plt.title(\" 2x2 Basic model : Loss vs epochs\")\n",
        "plt.show()"
      ],
      "execution_count": 26,
      "outputs": [
        {
          "output_type": "display_data",
          "data": {
            "image/png": "[encoded data removed]",
            "text/plain": [
              "<matplotlib.figure.Figure at 0x7fc449eedc88>"
            ]
          },
          "metadata": {
            "tags": []
          }
        }
      ]
    },
    {
      "metadata": {
        "id": "Kup2QeVhkP0G",
        "colab_type": "text"
      },
      "cell_type": "markdown",
      "source": [
        "b. Complex model with more layers\n",
        "- with dropdout and batch norm"
      ]
    },
    {
      "metadata": {
        "id": "aQfHquAFkQ7X",
        "colab_type": "code",
        "colab": {
          "autoexec": {
            "startup": false,
            "wait_interval": 0
          },
          "base_uri": "https://localhost:8080/",
          "height": 496
        },
        "outputId": "56e2b176-6c52-40b1-b216-cab337f25bac",
        "executionInfo": {
          "status": "ok",
          "timestamp": 1532424066267,
          "user_tz": -330,
          "elapsed": 113143,
          "user": {
            "displayName": "Vivek Kumar",
            "photoUrl": "//lh6.googleusercontent.com/-M_uuoLvcedc/AAAAAAAAAAI/AAAAAAAAASo/dW13zAextDg/s50-c-k-no/photo.jpg",
            "userId": "112122627751315204755"
          }
        }
      },
      "cell_type": "code",
      "source": [
        "model = Sequential()\n",
        "model.add(Conv2D(32, kernel_size=(2,2), activation='relu', input_shape=input_shape))\n",
        "model.add(Conv2D(32, kernel_size=(2,2), activation='relu'))\n",
        "model.add(MaxPooling2D(pool_size=(2,2)))\n",
        "model.add(BatchNormalization())\n",
        "model.add(Dropout(0.25))\n",
        "\n",
        "model.add(Conv2D(32, kernel_size=(2,2), activation='relu'))\n",
        "model.add(MaxPooling2D(pool_size=(2,2)))\n",
        "model.add(BatchNormalization())\n",
        "model.add(Dropout(0.5))\n",
        "\n",
        "model.add(Flatten())\n",
        "model.add(Dense(128, activation='relu'))\n",
        "model.add(Dropout(0.5))\n",
        "model.add(Dense(num_classes, activation='softmax'))\n",
        "\n",
        "model.compile(loss=keras.losses.categorical_crossentropy, \n",
        "              optimizer=keras.optimizers.Adadelta(),\n",
        "              metrics=['accuracy'])\n",
        "\n",
        "\n",
        "history = model.fit(X_train,y_train, batch_size=batch_size, epochs=epochs, verbose=1, validation_data=(X_test,y_test))   \n",
        "              \n",
        "score = model.evaluate(X_test, y_test, verbose=0) \n",
        "print('Test loss',score[0])\n",
        "print('Test accuracy', score[1])              \n"
      ],
      "execution_count": 27,
      "outputs": [
        {
          "output_type": "stream",
          "text": [
            "Train on 60000 samples, validate on 10000 samples\n",
            "Epoch 1/12\n",
            "60000/60000 [==============================] - 11s 178us/step - loss: 0.4313 - acc: 0.8663 - val_loss: 0.1083 - val_acc: 0.9685\n",
            "Epoch 2/12\n",
            "60000/60000 [==============================] - 9s 150us/step - loss: 0.1669 - acc: 0.9503 - val_loss: 0.0535 - val_acc: 0.9823\n",
            "Epoch 3/12\n",
            "29312/60000 [=============>................] - ETA: 4s - loss: 0.1376 - acc: 0.9586"
          ],
          "name": "stdout"
        },
        {
          "output_type": "stream",
          "text": [
            "60000/60000 [==============================] - 9s 151us/step - loss: 0.1326 - acc: 0.9608 - val_loss: 0.0438 - val_acc: 0.9850\n",
            "Epoch 4/12\n",
            "60000/60000 [==============================] - 9s 151us/step - loss: 0.1113 - acc: 0.9672 - val_loss: 0.0395 - val_acc: 0.9870\n",
            "Epoch 5/12\n",
            "60000/60000 [==============================] - 9s 150us/step - loss: 0.0997 - acc: 0.9705 - val_loss: 0.0406 - val_acc: 0.9879\n",
            "Epoch 6/12\n",
            " 1280/60000 [..............................] - ETA: 8s - loss: 0.0603 - acc: 0.9805"
          ],
          "name": "stdout"
        },
        {
          "output_type": "stream",
          "text": [
            "60000/60000 [==============================] - 9s 150us/step - loss: 0.0942 - acc: 0.9719 - val_loss: 0.0433 - val_acc: 0.9862\n",
            "Epoch 7/12\n",
            "60000/60000 [==============================] - 9s 149us/step - loss: 0.0874 - acc: 0.9742 - val_loss: 0.0678 - val_acc: 0.9776\n",
            "Epoch 8/12\n",
            "55424/60000 [==========================>...] - ETA: 0s - loss: 0.0851 - acc: 0.9748"
          ],
          "name": "stdout"
        },
        {
          "output_type": "stream",
          "text": [
            "60000/60000 [==============================] - 9s 150us/step - loss: 0.0846 - acc: 0.9749 - val_loss: 0.0307 - val_acc: 0.9896\n",
            "Epoch 9/12\n",
            "60000/60000 [==============================] - 9s 148us/step - loss: 0.0801 - acc: 0.9765 - val_loss: 0.0391 - val_acc: 0.9876\n",
            "Epoch 10/12\n",
            "60000/60000 [==============================] - 9s 150us/step - loss: 0.0775 - acc: 0.9768 - val_loss: 0.0400 - val_acc: 0.9876\n",
            "Epoch 11/12\n",
            " 5120/60000 [=>............................] - ETA: 7s - loss: 0.0640 - acc: 0.9832"
          ],
          "name": "stdout"
        },
        {
          "output_type": "stream",
          "text": [
            "60000/60000 [==============================] - 9s 150us/step - loss: 0.0748 - acc: 0.9780 - val_loss: 0.0299 - val_acc: 0.9900\n",
            "Epoch 12/12\n",
            "60000/60000 [==============================] - 9s 150us/step - loss: 0.0709 - acc: 0.9792 - val_loss: 0.0423 - val_acc: 0.9875\n",
            "Test loss 0.042263011195080614\n",
            "Test accuracy 0.9875\n"
          ],
          "name": "stdout"
        }
      ]
    },
    {
      "metadata": {
        "id": "ArnNy6vNkUrX",
        "colab_type": "code",
        "colab": {
          "autoexec": {
            "startup": false,
            "wait_interval": 0
          },
          "base_uri": "https://localhost:8080/",
          "height": 240
        },
        "outputId": "87fea262-eb35-468d-a7a1-07a6b58a93b4",
        "executionInfo": {
          "status": "ok",
          "timestamp": 1532424068036,
          "user_tz": -330,
          "elapsed": 1727,
          "user": {
            "displayName": "Vivek Kumar",
            "photoUrl": "//lh6.googleusercontent.com/-M_uuoLvcedc/AAAAAAAAAAI/AAAAAAAAASo/dW13zAextDg/s50-c-k-no/photo.jpg",
            "userId": "112122627751315204755"
          }
        }
      },
      "cell_type": "code",
      "source": [
        "epochs_list = list(range(1,epochs+1))\n",
        "import matplotlib.pyplot as plt\n",
        "train_acc = history.history['acc']\n",
        "train_loss = history.history['loss']\n",
        "cv_acc = history.history['val_acc']\n",
        "cv_loss = history.history['val_loss']\n",
        "\n",
        "plt.figure(figsize=(5,3))\n",
        "plt.plot(epochs_list,cv_loss,label=\"cv loss\")\n",
        "plt.plot(epochs_list,train_loss,label=\"train loss\")\n",
        "plt.xlabel(\" Epochs \")\n",
        "plt.ylabel(\" Loss \")\n",
        "plt.legend()\n",
        "plt.title(\" 2x2 Complex model : Loss vs epochs\")\n",
        "plt.show()"
      ],
      "execution_count": 28,
      "outputs": [
        {
          "output_type": "display_data",
          "data": {
            "image/png": "[encoded data removed]",
            "text/plain": [
              "<matplotlib.figure.Figure at 0x7fc449fb4400>"
            ]
          },
          "metadata": {
            "tags": []
          }
        }
      ]
    },
    {
      "metadata": {
        "id": "5-cPilhukXWa",
        "colab_type": "text"
      },
      "cell_type": "markdown",
      "source": [
        "### model 3: filter 5x5 \n",
        " a. basic model : without dropdout and batch norm"
      ]
    },
    {
      "metadata": {
        "id": "ckBGvPrvkY0g",
        "colab_type": "code",
        "colab": {
          "autoexec": {
            "startup": false,
            "wait_interval": 0
          },
          "base_uri": "https://localhost:8080/",
          "height": 496
        },
        "outputId": "c27f9a57-9a81-48ea-e3d1-092af469b2b0",
        "executionInfo": {
          "status": "ok",
          "timestamp": 1532424132474,
          "user_tz": -330,
          "elapsed": 64258,
          "user": {
            "displayName": "Vivek Kumar",
            "photoUrl": "//lh6.googleusercontent.com/-M_uuoLvcedc/AAAAAAAAAAI/AAAAAAAAASo/dW13zAextDg/s50-c-k-no/photo.jpg",
            "userId": "112122627751315204755"
          }
        }
      },
      "cell_type": "code",
      "source": [
        "model = Sequential()\n",
        "model.add(Conv2D(32, kernel_size=(5,5), activation='relu', input_shape=input_shape))\n",
        "model.add(MaxPooling2D(pool_size=(2,2)))\n",
        "model.add(Flatten())\n",
        "model.add(Dense(128, activation='relu'))\n",
        "model.add(Dense(num_classes, activation='softmax'))\n",
        "\n",
        "model.compile(loss=keras.losses.categorical_crossentropy, optimizer=keras.optimizers.Adam(),\n",
        "              metrics=['accuracy'])\n",
        "\n",
        "\n",
        "history = model.fit(X_train,y_train, batch_size=batch_size, epochs=epochs, verbose=1, validation_data=(X_test,y_test))   \n",
        "              \n",
        "score = model.evaluate(X_test, y_test, verbose=0) \n",
        "print('Test loss',score[0])\n",
        "print('Test accuracy', score[1])              "
      ],
      "execution_count": 29,
      "outputs": [
        {
          "output_type": "stream",
          "text": [
            "Train on 60000 samples, validate on 10000 samples\n",
            "Epoch 1/12\n",
            "60000/60000 [==============================] - 6s 96us/step - loss: 0.2013 - acc: 0.9417 - val_loss: 0.0655 - val_acc: 0.9789\n",
            "Epoch 2/12\n",
            "60000/60000 [==============================] - 5s 84us/step - loss: 0.0570 - acc: 0.9828 - val_loss: 0.0477 - val_acc: 0.9845\n",
            "Epoch 3/12\n",
            "60000/60000 [==============================] - 5s 85us/step - loss: 0.0381 - acc: 0.9885 - val_loss: 0.0397 - val_acc: 0.9868\n",
            "Epoch 4/12\n",
            "29056/60000 [=============>................] - ETA: 2s - loss: 0.0255 - acc: 0.9925"
          ],
          "name": "stdout"
        },
        {
          "output_type": "stream",
          "text": [
            "60000/60000 [==============================] - 5s 84us/step - loss: 0.0287 - acc: 0.9914 - val_loss: 0.0354 - val_acc: 0.9883\n",
            "Epoch 5/12\n",
            "60000/60000 [==============================] - 5s 84us/step - loss: 0.0223 - acc: 0.9934 - val_loss: 0.0369 - val_acc: 0.9893\n",
            "Epoch 6/12\n",
            "60000/60000 [==============================] - 5s 86us/step - loss: 0.0169 - acc: 0.9942 - val_loss: 0.0329 - val_acc: 0.9901\n",
            "Epoch 7/12\n",
            "56064/60000 [===========================>..] - ETA: 0s - loss: 0.0121 - acc: 0.9962"
          ],
          "name": "stdout"
        },
        {
          "output_type": "stream",
          "text": [
            "60000/60000 [==============================] - 5s 85us/step - loss: 0.0123 - acc: 0.9961 - val_loss: 0.0379 - val_acc: 0.9884\n",
            "Epoch 8/12\n",
            "60000/60000 [==============================] - 5s 85us/step - loss: 0.0103 - acc: 0.9968 - val_loss: 0.0405 - val_acc: 0.9889\n",
            "Epoch 9/12\n",
            "60000/60000 [==============================] - 5s 84us/step - loss: 0.0069 - acc: 0.9982 - val_loss: 0.0459 - val_acc: 0.9881\n",
            "Epoch 10/12\n",
            "60000/60000 [==============================] - 5s 83us/step - loss: 0.0069 - acc: 0.9980 - val_loss: 0.0395 - val_acc: 0.9887\n",
            "Epoch 11/12\n",
            " 4224/60000 [=>............................] - ETA: 4s - loss: 0.0060 - acc: 0.9983"
          ],
          "name": "stdout"
        },
        {
          "output_type": "stream",
          "text": [
            "60000/60000 [==============================] - 5s 85us/step - loss: 0.0070 - acc: 0.9978 - val_loss: 0.0407 - val_acc: 0.9895\n",
            "Epoch 12/12\n",
            "60000/60000 [==============================] - 5s 85us/step - loss: 0.0044 - acc: 0.9987 - val_loss: 0.0491 - val_acc: 0.9878\n",
            "Test loss 0.049073257441515576\n",
            "Test accuracy 0.9878\n"
          ],
          "name": "stdout"
        }
      ]
    },
    {
      "metadata": {
        "id": "fgYNTyl_kdoh",
        "colab_type": "code",
        "colab": {
          "autoexec": {
            "startup": false,
            "wait_interval": 0
          },
          "base_uri": "https://localhost:8080/",
          "height": 240
        },
        "outputId": "f2c61e95-a582-48eb-d055-9c6b8098bd4e",
        "executionInfo": {
          "status": "ok",
          "timestamp": 1532424133763,
          "user_tz": -330,
          "elapsed": 1253,
          "user": {
            "displayName": "Vivek Kumar",
            "photoUrl": "//lh6.googleusercontent.com/-M_uuoLvcedc/AAAAAAAAAAI/AAAAAAAAASo/dW13zAextDg/s50-c-k-no/photo.jpg",
            "userId": "112122627751315204755"
          }
        }
      },
      "cell_type": "code",
      "source": [
        "epochs_list = list(range(1,epochs+1))\n",
        "import matplotlib.pyplot as plt\n",
        "train_acc = history.history['acc']\n",
        "train_loss = history.history['loss']\n",
        "cv_acc = history.history['val_acc']\n",
        "cv_loss = history.history['val_loss']\n",
        "\n",
        "plt.figure(figsize=(5,3))\n",
        "plt.plot(epochs_list,cv_loss,label=\"cv loss\")\n",
        "plt.plot(epochs_list,train_loss,label=\"train loss\")\n",
        "plt.xlabel(\" Epochs \")\n",
        "plt.ylabel(\" Loss \")\n",
        "plt.legend()\n",
        "plt.title(\" 5x5 Simple model : Loss vs epochs\")\n",
        "plt.show()"
      ],
      "execution_count": 30,
      "outputs": [
        {
          "output_type": "display_data",
          "data": {
            "image/png": "[encoded data removed]",
            "text/plain": [
              "<matplotlib.figure.Figure at 0x7fc448c72860>"
            ]
          },
          "metadata": {
            "tags": []
          }
        }
      ]
    },
    {
      "metadata": {
        "id": "tKMFYXqhkhsK",
        "colab_type": "text"
      },
      "cell_type": "markdown",
      "source": [
        "b. Complex model with more layers\n",
        "- with dropdout and batch norm\n"
      ]
    },
    {
      "metadata": {
        "id": "NkgtQsigkjbp",
        "colab_type": "code",
        "colab": {
          "autoexec": {
            "startup": false,
            "wait_interval": 0
          },
          "base_uri": "https://localhost:8080/",
          "height": 496
        },
        "outputId": "16181078-3467-4d81-e70e-3033ab068c0e",
        "executionInfo": {
          "status": "ok",
          "timestamp": 1532424251837,
          "user_tz": -330,
          "elapsed": 117943,
          "user": {
            "displayName": "Vivek Kumar",
            "photoUrl": "//lh6.googleusercontent.com/-M_uuoLvcedc/AAAAAAAAAAI/AAAAAAAAASo/dW13zAextDg/s50-c-k-no/photo.jpg",
            "userId": "112122627751315204755"
          }
        }
      },
      "cell_type": "code",
      "source": [
        "model = Sequential()\n",
        "model.add(Conv2D(32, kernel_size=(5,5), activation='relu', input_shape=input_shape))\n",
        "model.add(Conv2D(32, kernel_size=(5,5), activation='relu'))\n",
        "model.add(MaxPooling2D(pool_size=(2,2)))\n",
        "model.add(BatchNormalization())\n",
        "model.add(Dropout(0.25))\n",
        "\n",
        "model.add(Conv2D(32, kernel_size=(5,5), activation='relu'))\n",
        "model.add(MaxPooling2D(pool_size=(2,2)))\n",
        "model.add(BatchNormalization())\n",
        "model.add(Dropout(0.25))\n",
        "\n",
        "model.add(Flatten())\n",
        "model.add(Dense(128, activation='relu'))\n",
        "model.add(Dropout(0.5))\n",
        "model.add(Dense(num_classes, activation='softmax'))\n",
        "\n",
        "model.compile(loss=keras.losses.categorical_crossentropy, \n",
        "              optimizer=keras.optimizers.Adadelta(),\n",
        "              metrics=['accuracy'])\n",
        "\n",
        "\n",
        "history = model.fit(X_train,y_train, batch_size=batch_size, epochs=epochs, verbose=1, validation_data=(X_test,y_test))   \n",
        "              \n",
        "score = model.evaluate(X_test, y_test, verbose=0) \n",
        "print('Test loss',score[0])\n",
        "print('Test accuracy', score[1])              \n"
      ],
      "execution_count": 31,
      "outputs": [
        {
          "output_type": "stream",
          "text": [
            "Train on 60000 samples, validate on 10000 samples\n",
            "Epoch 1/12\n",
            "60000/60000 [==============================] - 11s 178us/step - loss: 0.2966 - acc: 0.9084 - val_loss: 0.0622 - val_acc: 0.9804\n",
            "Epoch 2/12\n",
            "60000/60000 [==============================] - 10s 158us/step - loss: 0.0917 - acc: 0.9731 - val_loss: 0.0347 - val_acc: 0.9897\n",
            "Epoch 3/12\n",
            "28928/60000 [=============>................] - ETA: 4s - loss: 0.0714 - acc: 0.9790"
          ],
          "name": "stdout"
        },
        {
          "output_type": "stream",
          "text": [
            "60000/60000 [==============================] - 9s 158us/step - loss: 0.0692 - acc: 0.9797 - val_loss: 0.0351 - val_acc: 0.9882\n",
            "Epoch 4/12\n",
            "60000/60000 [==============================] - 9s 157us/step - loss: 0.0595 - acc: 0.9823 - val_loss: 0.0273 - val_acc: 0.9908\n",
            "Epoch 5/12\n",
            "60000/60000 [==============================] - 9s 155us/step - loss: 0.0506 - acc: 0.9853 - val_loss: 0.0270 - val_acc: 0.9908\n",
            "Epoch 6/12\n",
            "  896/60000 [..............................] - ETA: 9s - loss: 0.0859 - acc: 0.9833"
          ],
          "name": "stdout"
        },
        {
          "output_type": "stream",
          "text": [
            "60000/60000 [==============================] - 9s 158us/step - loss: 0.0450 - acc: 0.9873 - val_loss: 0.0267 - val_acc: 0.9919\n",
            "Epoch 7/12\n",
            "60000/60000 [==============================] - 9s 158us/step - loss: 0.0397 - acc: 0.9884 - val_loss: 0.0240 - val_acc: 0.9926\n",
            "Epoch 8/12\n",
            "55424/60000 [==========================>...] - ETA: 0s - loss: 0.0373 - acc: 0.9890"
          ],
          "name": "stdout"
        },
        {
          "output_type": "stream",
          "text": [
            "60000/60000 [==============================] - 9s 158us/step - loss: 0.0375 - acc: 0.9889 - val_loss: 0.0208 - val_acc: 0.9929\n",
            "Epoch 9/12\n",
            "60000/60000 [==============================] - 9s 157us/step - loss: 0.0354 - acc: 0.9894 - val_loss: 0.0202 - val_acc: 0.9931\n",
            "Epoch 10/12\n",
            "60000/60000 [==============================] - 9s 154us/step - loss: 0.0330 - acc: 0.9901 - val_loss: 0.0240 - val_acc: 0.9929\n",
            "Epoch 11/12\n",
            " 5504/60000 [=>............................] - ETA: 8s - loss: 0.0272 - acc: 0.9916"
          ],
          "name": "stdout"
        },
        {
          "output_type": "stream",
          "text": [
            "60000/60000 [==============================] - 9s 156us/step - loss: 0.0311 - acc: 0.9908 - val_loss: 0.0261 - val_acc: 0.9922\n",
            "Epoch 12/12\n",
            "60000/60000 [==============================] - 9s 155us/step - loss: 0.0307 - acc: 0.9911 - val_loss: 0.0204 - val_acc: 0.9937\n",
            "Test loss 0.020443291626425344\n",
            "Test accuracy 0.9937\n"
          ],
          "name": "stdout"
        }
      ]
    },
    {
      "metadata": {
        "id": "3uWQXZ2EknsD",
        "colab_type": "code",
        "colab": {
          "autoexec": {
            "startup": false,
            "wait_interval": 0
          },
          "base_uri": "https://localhost:8080/",
          "height": 240
        },
        "outputId": "0eb3e876-ee7a-48cd-902c-b21b77ace171",
        "executionInfo": {
          "status": "ok",
          "timestamp": 1532424253586,
          "user_tz": -330,
          "elapsed": 1701,
          "user": {
            "displayName": "Vivek Kumar",
            "photoUrl": "//lh6.googleusercontent.com/-M_uuoLvcedc/AAAAAAAAAAI/AAAAAAAAASo/dW13zAextDg/s50-c-k-no/photo.jpg",
            "userId": "112122627751315204755"
          }
        }
      },
      "cell_type": "code",
      "source": [
        "epochs_list = list(range(1,epochs+1))\n",
        "import matplotlib.pyplot as plt\n",
        "train_acc = history.history['acc']\n",
        "train_loss = history.history['loss']\n",
        "cv_acc = history.history['val_acc']\n",
        "cv_loss = history.history['val_loss']\n",
        "\n",
        "plt.figure(figsize=(5,3))\n",
        "plt.plot(epochs_list,cv_loss,label=\"cv loss\")\n",
        "plt.plot(epochs_list,train_loss,label=\"train loss\")\n",
        "plt.xlabel(\" Epochs \")\n",
        "plt.ylabel(\" Loss \")\n",
        "plt.legend()\n",
        "plt.title(\" 5x5 Complex model : Loss vs epochs\")\n",
        "plt.show()"
      ],
      "execution_count": 32,
      "outputs": [
        {
          "output_type": "display_data",
          "data": {
            "image/png": "[encoded data removed]",
            "text/plain": [
              "<matplotlib.figure.Figure at 0x7fc448207c18>"
            ]
          },
          "metadata": {
            "tags": []
          }
        }
      ]
    },
    {
      "metadata": {
        "id": "5-qoqoTkkwl5",
        "colab_type": "code",
        "colab": {
          "autoexec": {
            "startup": false,
            "wait_interval": 0
          }
        }
      },
      "cell_type": "code",
      "source": [
        ""
      ],
      "execution_count": 0,
      "outputs": []
    }
  ]
}